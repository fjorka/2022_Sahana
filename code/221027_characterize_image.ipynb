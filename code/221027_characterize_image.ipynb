{
 "cells": [
  {
   "cell_type": "code",
   "execution_count": 1,
   "metadata": {},
   "outputs": [],
   "source": [
    "import os\n",
    "import nd2\n",
    "import napari\n",
    "import pickle\n",
    "import numpy as np\n",
    "import pandas as pd\n",
    "from skimage.io import imread\n",
    "from skimage.measure import regionprops_table, profile_line\n",
    "from cardiomyocytes_helper_functions import segment_actin_3D,calculate_orientation,find_fibers_orientation_v2,orientations_from_vertices, signal_from_vertices"
   ]
  },
  {
   "cell_type": "code",
   "execution_count": 2,
   "metadata": {},
   "outputs": [],
   "source": [
    "path_dir = r'D:\\data_analysis\\2022_Sahana\\data\\Collagen\\60x images'\n",
    "im_name = r'092622_ring_PDMSAp_10MCol_647-Act_561-Pax_488-Plak_DAPI_001.nd2'\n",
    "path_im = os.path.join(path_dir,im_name)\n",
    "\n",
    "path_vertices = r'D:\\data_analysis\\2022_Sahana\\masks'\n",
    "\n",
    "path_results = r'D:\\data_analysis\\2022_Sahana\\results'\n",
    "path_df = os.path.join(path_results,im_name.replace('.nd2','_df.pkl'))\n",
    "\n",
    "# order of channels\n",
    "    # actin\n",
    "    # paxilin\n",
    "    # plakoglobin\n",
    "    # DAPI\n"
   ]
  },
  {
   "cell_type": "markdown",
   "metadata": {},
   "source": [
    "## Read in the image and annotations"
   ]
  },
  {
   "cell_type": "code",
   "execution_count": 3,
   "metadata": {},
   "outputs": [
    {
     "data": {
      "text/plain": [
       "(27, 4, 512, 512)"
      ]
     },
     "execution_count": 3,
     "metadata": {},
     "output_type": "execute_result"
    }
   ],
   "source": [
    "# read in image\n",
    "im = nd2.imread(path_im)\n",
    "im.shape"
   ]
  },
  {
   "cell_type": "code",
   "execution_count": 4,
   "metadata": {},
   "outputs": [],
   "source": [
    "# read in polygons and masks\n",
    "\n",
    "pkl_path = os.path.join(path_vertices,im_name.replace('.nd2','_polygons.pkl'))\n",
    "\n",
    "with open(pkl_path, 'rb') as f:\n",
    "    vertices_polygons = pickle.load(f)\n",
    "\n",
    "mask_path = os.path.join(path_vertices,im_name.replace('.nd2','_mask.png'))\n",
    "mask = imread(mask_path)"
   ]
  },
  {
   "cell_type": "markdown",
   "metadata": {},
   "source": [
    "## Segment actin"
   ]
  },
  {
   "cell_type": "code",
   "execution_count": 5,
   "metadata": {},
   "outputs": [
    {
     "name": "stdout",
     "output_type": "stream",
     "text": [
      "intensity normalization: min-max normalization with NO absoluteintensity upper bound\n"
     ]
    }
   ],
   "source": [
    "# get actin channel\n",
    "image_actin = im[:,0,:,:]\n",
    "\n",
    "# segment actin volume\n",
    "image_actin_mask = segment_actin_3D(image_actin)\n",
    "\n",
    "# flatten segmented actin\n",
    "image_actin_mask_2D = np.max(image_actin_mask,axis=0)"
   ]
  },
  {
   "cell_type": "markdown",
   "metadata": {},
   "source": [
    "## Calculate general properties of cells"
   ]
  },
  {
   "cell_type": "code",
   "execution_count": 6,
   "metadata": {},
   "outputs": [],
   "source": [
    "# calculate properties of cells\n",
    "\n",
    "properties = ['label','area','centroid','bbox','eccentricity','orientation','intensity_image','image']\n",
    "\n",
    "im_flat_all_channels = np.max(im,axis=0)\n",
    "im_flat_all = np.append(im_flat_all_channels,np.expand_dims(image_actin_mask_2D,axis=0),axis=0)\n",
    "im_flat_all = np.moveaxis(im_flat_all,0,2)\n",
    "\n",
    "cell_measure = regionprops_table(mask, intensity_image = im_flat_all, properties = properties)\n",
    "df = pd.DataFrame(cell_measure)\n",
    "df['image_name'] = im_name"
   ]
  },
  {
   "cell_type": "code",
   "execution_count": 7,
   "metadata": {},
   "outputs": [],
   "source": [
    "# add vertices to the table\n",
    "df['vertices'] = vertices_polygons"
   ]
  },
  {
   "cell_type": "markdown",
   "metadata": {},
   "source": [
    "## Characterize orientation of the cell edge (based on vertices)"
   ]
  },
  {
   "cell_type": "code",
   "execution_count": 8,
   "metadata": {},
   "outputs": [],
   "source": [
    "# characterize the orientation of the edge of the cell\n",
    "\n",
    "df['membrane_orientation'] = None\n",
    "df['membrane_orientation'] = df['membrane_orientation'].astype(object)\n",
    "\n",
    "for i,cell in df.iterrows():\n",
    "\n",
    "    vert = cell.vertices\n",
    "\n",
    "    membrane_orientation = orientations_from_vertices(vert)\n",
    "\n",
    "    df.at[i,'membrane_orientation'] = membrane_orientation\n"
   ]
  },
  {
   "cell_type": "markdown",
   "metadata": {},
   "source": [
    "## Calculate general flow of actin"
   ]
  },
  {
   "cell_type": "code",
   "execution_count": 9,
   "metadata": {},
   "outputs": [],
   "source": [
    "# characterize actin orientation in the cells\n",
    "\n",
    "df['actin_detected'] = None\n",
    "df['actin_detected'] = df['actin_detected'].astype(object)\n",
    "\n",
    "for i,cell in df.iterrows():\n",
    "\n",
    "    im_single_cell_actin = cell.intensity_image[:,:,4]\n",
    "\n",
    "    actin,actin_orientation,actin_spread = find_fibers_orientation_v2(im_single_cell_actin)\n",
    "\n",
    "    df.at[i,'actin_detected'] = np.array(actin)\n",
    "    df.loc[i,'actin_orientation'] = actin_orientation\n",
    "    df.loc[i,'actin_spread'] = actin_spread"
   ]
  },
  {
   "cell_type": "markdown",
   "metadata": {},
   "source": [
    "## Characterize signals at the edge"
   ]
  },
  {
   "cell_type": "code",
   "execution_count": 10,
   "metadata": {},
   "outputs": [],
   "source": [
    "signal_max = np.max(im[:,2,:,:],axis=0)\n",
    "\n",
    "df['plak_signal'] = None\n",
    "df['plak_signal'] = df['plak_signal'].astype(object)\n",
    "\n",
    "for i,cell in df.iterrows():\n",
    "\n",
    "    vert = cell.vertices\n",
    "\n",
    "    signal_line = signal_from_vertices(vert,signal_max)\n",
    "\n",
    "    df.at[i,'plak_signal'] = signal_line"
   ]
  },
  {
   "cell_type": "markdown",
   "metadata": {},
   "source": [
    "## Visualize image"
   ]
  },
  {
   "cell_type": "code",
   "execution_count": 11,
   "metadata": {},
   "outputs": [
    {
     "name": "stdout",
     "output_type": "stream",
     "text": [
      "Assistant skips harvesting pyclesperanto as it's not installed.\n"
     ]
    },
    {
     "data": {
      "text/plain": [
       "<Labels layer 'mask' at 0x26d9934ce20>"
      ]
     },
     "execution_count": 11,
     "metadata": {},
     "output_type": "execute_result"
    }
   ],
   "source": [
    "viewer = napari.Viewer()\n",
    "viewer.add_image(im[:,0,:,:],blending='additive',colormap='magenta')\n",
    "viewer.add_image(signal_max,blending='additive',colormap='green')\n",
    "viewer.add_image(image_actin_mask,blending='additive',colormap='green',visible=False)\n",
    "viewer.add_image(image_actin_mask_2D,blending='additive',colormap='gray')\n",
    "viewer.add_labels(mask,blending='additive')"
   ]
  },
  {
   "cell_type": "markdown",
   "metadata": {},
   "source": [
    "## Show data frame"
   ]
  },
  {
   "cell_type": "code",
   "execution_count": 12,
   "metadata": {},
   "outputs": [
    {
     "data": {
      "text/html": [
       "<div>\n",
       "<style scoped>\n",
       "    .dataframe tbody tr th:only-of-type {\n",
       "        vertical-align: middle;\n",
       "    }\n",
       "\n",
       "    .dataframe tbody tr th {\n",
       "        vertical-align: top;\n",
       "    }\n",
       "\n",
       "    .dataframe thead th {\n",
       "        text-align: right;\n",
       "    }\n",
       "</style>\n",
       "<table border=\"1\" class=\"dataframe\">\n",
       "  <thead>\n",
       "    <tr style=\"text-align: right;\">\n",
       "      <th></th>\n",
       "      <th>label</th>\n",
       "      <th>area</th>\n",
       "      <th>centroid-0</th>\n",
       "      <th>centroid-1</th>\n",
       "      <th>bbox-0</th>\n",
       "      <th>bbox-1</th>\n",
       "      <th>bbox-2</th>\n",
       "      <th>bbox-3</th>\n",
       "      <th>eccentricity</th>\n",
       "      <th>orientation</th>\n",
       "      <th>intensity_image</th>\n",
       "      <th>image</th>\n",
       "      <th>image_name</th>\n",
       "      <th>vertices</th>\n",
       "      <th>membrane_orientation</th>\n",
       "      <th>actin_detected</th>\n",
       "      <th>actin_orientation</th>\n",
       "      <th>actin_spread</th>\n",
       "      <th>plak_signal</th>\n",
       "    </tr>\n",
       "  </thead>\n",
       "  <tbody>\n",
       "    <tr>\n",
       "      <th>0</th>\n",
       "      <td>1</td>\n",
       "      <td>12222</td>\n",
       "      <td>417.672640</td>\n",
       "      <td>305.914662</td>\n",
       "      <td>356</td>\n",
       "      <td>193</td>\n",
       "      <td>492</td>\n",
       "      <td>425</td>\n",
       "      <td>0.950820</td>\n",
       "      <td>-1.178678</td>\n",
       "      <td>[[[0, 0, 0, 0, 0], [0, 0, 0, 0, 0], [0, 0, 0, ...</td>\n",
       "      <td>[[False, False, False, False, False, False, Fa...</td>\n",
       "      <td>092622_ring_PDMSAp_10MCol_647-Act_561-Pax_488-...</td>\n",
       "      <td>[[413.5046444321612, 203.5532564629244], [461....</td>\n",
       "      <td>[-0.2317168411904511, 0.7044940642422182, 1.41...</td>\n",
       "      <td>[[[28, 121], [45, 111]], [[7, 78], [27, 71]], ...</td>\n",
       "      <td>-1.329067</td>\n",
       "      <td>1.116913</td>\n",
       "      <td>[362.0, 341.0, 337.0, 401.0, 554.0, 889.0, 151...</td>\n",
       "    </tr>\n",
       "    <tr>\n",
       "      <th>1</th>\n",
       "      <td>2</td>\n",
       "      <td>5864</td>\n",
       "      <td>416.320259</td>\n",
       "      <td>287.201739</td>\n",
       "      <td>371</td>\n",
       "      <td>240</td>\n",
       "      <td>468</td>\n",
       "      <td>337</td>\n",
       "      <td>0.635507</td>\n",
       "      <td>0.802674</td>\n",
       "      <td>[[[0, 0, 0, 0, 0], [0, 0, 0, 0, 0], [0, 0, 0, ...</td>\n",
       "      <td>[[False, False, False, False, False, False, Fa...</td>\n",
       "      <td>092622_ring_PDMSAp_10MCol_647-Act_561-Pax_488-...</td>\n",
       "      <td>[[391.8601720840474, 239.80774764601492], [410...</td>\n",
       "      <td>[0.14601225771127702, 0.5266272714337505, 0.61...</td>\n",
       "      <td>[[[18, 34], [33, 24]], [[21, 41], [37, 33]], [...</td>\n",
       "      <td>-1.031291</td>\n",
       "      <td>0.132448</td>\n",
       "      <td>[1742.0, 1862.0, 1903.0, 1424.0, 830.0, 528.0,...</td>\n",
       "    </tr>\n",
       "    <tr>\n",
       "      <th>2</th>\n",
       "      <td>3</td>\n",
       "      <td>3475</td>\n",
       "      <td>304.857842</td>\n",
       "      <td>29.730360</td>\n",
       "      <td>243</td>\n",
       "      <td>9</td>\n",
       "      <td>360</td>\n",
       "      <td>57</td>\n",
       "      <td>0.948991</td>\n",
       "      <td>0.127392</td>\n",
       "      <td>[[[0, 0, 0, 0, 0], [0, 0, 0, 0, 0], [0, 0, 0, ...</td>\n",
       "      <td>[[False, False, False, False, False, False, Fa...</td>\n",
       "      <td>092622_ring_PDMSAp_10MCol_647-Act_561-Pax_488-...</td>\n",
       "      <td>[[251.71221363001072, 8.753005329900446], [279...</td>\n",
       "      <td>[0.17467219900823938, -0.057628427477474986, 0...</td>\n",
       "      <td>[[[20, 85], [14, 57]], [[35, 53], [29, 31]], [...</td>\n",
       "      <td>0.268878</td>\n",
       "      <td>0.046822</td>\n",
       "      <td>[388.0, 399.0, 390.0, 420.0, 427.0, 390.0, 354...</td>\n",
       "    </tr>\n",
       "    <tr>\n",
       "      <th>3</th>\n",
       "      <td>4</td>\n",
       "      <td>1829</td>\n",
       "      <td>378.172772</td>\n",
       "      <td>55.621651</td>\n",
       "      <td>355</td>\n",
       "      <td>16</td>\n",
       "      <td>403</td>\n",
       "      <td>97</td>\n",
       "      <td>0.957310</td>\n",
       "      <td>-1.224663</td>\n",
       "      <td>[[[0, 0, 0, 0, 0], [0, 0, 0, 0, 0], [0, 0, 0, ...</td>\n",
       "      <td>[[False, False, False, False, False, False, Fa...</td>\n",
       "      <td>092622_ring_PDMSAp_10MCol_647-Act_561-Pax_488-...</td>\n",
       "      <td>[[379.95571229258485, 15.246347034334576], [40...</td>\n",
       "      <td>[0.2782996590051119, -1.2231894670389956, 0.26...</td>\n",
       "      <td>[[[48, 29], [43, 13]], [[29, 37], [26, 22]], [...</td>\n",
       "      <td>0.229724</td>\n",
       "      <td>0.091746</td>\n",
       "      <td>[257.0, 245.0, 256.0, 273.0, 265.0, 242.0, 258...</td>\n",
       "    </tr>\n",
       "    <tr>\n",
       "      <th>4</th>\n",
       "      <td>5</td>\n",
       "      <td>5126</td>\n",
       "      <td>191.244635</td>\n",
       "      <td>186.167577</td>\n",
       "      <td>135</td>\n",
       "      <td>148</td>\n",
       "      <td>237</td>\n",
       "      <td>234</td>\n",
       "      <td>0.875291</td>\n",
       "      <td>0.608647</td>\n",
       "      <td>[[[0, 0, 0, 0, 0], [0, 0, 0, 0, 0], [0, 0, 0, ...</td>\n",
       "      <td>[[False, False, False, False, False, False, Fa...</td>\n",
       "      <td>092622_ring_PDMSAp_10MCol_647-Act_561-Pax_488-...</td>\n",
       "      <td>[[157.5587589157158, 149.9831874013428], [191....</td>\n",
       "      <td>[0.11065722117389543, 0.4423742229767451, 0.99...</td>\n",
       "      <td>[[[43, 56], [27, 25]], [[66, 56], [58, 41]], [...</td>\n",
       "      <td>0.388494</td>\n",
       "      <td>0.142845</td>\n",
       "      <td>[241.0, 231.0, 237.0, 257.0, 290.0, 313.0, 297...</td>\n",
       "    </tr>\n",
       "    <tr>\n",
       "      <th>5</th>\n",
       "      <td>6</td>\n",
       "      <td>4440</td>\n",
       "      <td>49.332432</td>\n",
       "      <td>250.242793</td>\n",
       "      <td>12</td>\n",
       "      <td>198</td>\n",
       "      <td>87</td>\n",
       "      <td>302</td>\n",
       "      <td>0.799329</td>\n",
       "      <td>1.142257</td>\n",
       "      <td>[[[0, 0, 0, 0, 0], [0, 0, 0, 0, 0], [0, 0, 0, ...</td>\n",
       "      <td>[[False, False, False, False, False, False, Fa...</td>\n",
       "      <td>092622_ring_PDMSAp_10MCol_647-Act_561-Pax_488-...</td>\n",
       "      <td>[[10.917458757245019, 228.4443996632552], [24....</td>\n",
       "      <td>[-0.7437555842988597, -0.7313966630214805, 0.9...</td>\n",
       "      <td>[[[54, 44], [34, 35]], [[79, 57], [51, 43]], [...</td>\n",
       "      <td>1.069650</td>\n",
       "      <td>0.106149</td>\n",
       "      <td>[259.0, 302.0, 283.0, 223.0, 215.0, 231.0, 242...</td>\n",
       "    </tr>\n",
       "  </tbody>\n",
       "</table>\n",
       "</div>"
      ],
      "text/plain": [
       "   label   area  centroid-0  centroid-1  bbox-0  bbox-1  bbox-2  bbox-3  \\\n",
       "0      1  12222  417.672640  305.914662     356     193     492     425   \n",
       "1      2   5864  416.320259  287.201739     371     240     468     337   \n",
       "2      3   3475  304.857842   29.730360     243       9     360      57   \n",
       "3      4   1829  378.172772   55.621651     355      16     403      97   \n",
       "4      5   5126  191.244635  186.167577     135     148     237     234   \n",
       "5      6   4440   49.332432  250.242793      12     198      87     302   \n",
       "\n",
       "   eccentricity  orientation  \\\n",
       "0      0.950820    -1.178678   \n",
       "1      0.635507     0.802674   \n",
       "2      0.948991     0.127392   \n",
       "3      0.957310    -1.224663   \n",
       "4      0.875291     0.608647   \n",
       "5      0.799329     1.142257   \n",
       "\n",
       "                                     intensity_image  \\\n",
       "0  [[[0, 0, 0, 0, 0], [0, 0, 0, 0, 0], [0, 0, 0, ...   \n",
       "1  [[[0, 0, 0, 0, 0], [0, 0, 0, 0, 0], [0, 0, 0, ...   \n",
       "2  [[[0, 0, 0, 0, 0], [0, 0, 0, 0, 0], [0, 0, 0, ...   \n",
       "3  [[[0, 0, 0, 0, 0], [0, 0, 0, 0, 0], [0, 0, 0, ...   \n",
       "4  [[[0, 0, 0, 0, 0], [0, 0, 0, 0, 0], [0, 0, 0, ...   \n",
       "5  [[[0, 0, 0, 0, 0], [0, 0, 0, 0, 0], [0, 0, 0, ...   \n",
       "\n",
       "                                               image  \\\n",
       "0  [[False, False, False, False, False, False, Fa...   \n",
       "1  [[False, False, False, False, False, False, Fa...   \n",
       "2  [[False, False, False, False, False, False, Fa...   \n",
       "3  [[False, False, False, False, False, False, Fa...   \n",
       "4  [[False, False, False, False, False, False, Fa...   \n",
       "5  [[False, False, False, False, False, False, Fa...   \n",
       "\n",
       "                                          image_name  \\\n",
       "0  092622_ring_PDMSAp_10MCol_647-Act_561-Pax_488-...   \n",
       "1  092622_ring_PDMSAp_10MCol_647-Act_561-Pax_488-...   \n",
       "2  092622_ring_PDMSAp_10MCol_647-Act_561-Pax_488-...   \n",
       "3  092622_ring_PDMSAp_10MCol_647-Act_561-Pax_488-...   \n",
       "4  092622_ring_PDMSAp_10MCol_647-Act_561-Pax_488-...   \n",
       "5  092622_ring_PDMSAp_10MCol_647-Act_561-Pax_488-...   \n",
       "\n",
       "                                            vertices  \\\n",
       "0  [[413.5046444321612, 203.5532564629244], [461....   \n",
       "1  [[391.8601720840474, 239.80774764601492], [410...   \n",
       "2  [[251.71221363001072, 8.753005329900446], [279...   \n",
       "3  [[379.95571229258485, 15.246347034334576], [40...   \n",
       "4  [[157.5587589157158, 149.9831874013428], [191....   \n",
       "5  [[10.917458757245019, 228.4443996632552], [24....   \n",
       "\n",
       "                                membrane_orientation  \\\n",
       "0  [-0.2317168411904511, 0.7044940642422182, 1.41...   \n",
       "1  [0.14601225771127702, 0.5266272714337505, 0.61...   \n",
       "2  [0.17467219900823938, -0.057628427477474986, 0...   \n",
       "3  [0.2782996590051119, -1.2231894670389956, 0.26...   \n",
       "4  [0.11065722117389543, 0.4423742229767451, 0.99...   \n",
       "5  [-0.7437555842988597, -0.7313966630214805, 0.9...   \n",
       "\n",
       "                                      actin_detected  actin_orientation  \\\n",
       "0  [[[28, 121], [45, 111]], [[7, 78], [27, 71]], ...          -1.329067   \n",
       "1  [[[18, 34], [33, 24]], [[21, 41], [37, 33]], [...          -1.031291   \n",
       "2  [[[20, 85], [14, 57]], [[35, 53], [29, 31]], [...           0.268878   \n",
       "3  [[[48, 29], [43, 13]], [[29, 37], [26, 22]], [...           0.229724   \n",
       "4  [[[43, 56], [27, 25]], [[66, 56], [58, 41]], [...           0.388494   \n",
       "5  [[[54, 44], [34, 35]], [[79, 57], [51, 43]], [...           1.069650   \n",
       "\n",
       "   actin_spread                                        plak_signal  \n",
       "0      1.116913  [362.0, 341.0, 337.0, 401.0, 554.0, 889.0, 151...  \n",
       "1      0.132448  [1742.0, 1862.0, 1903.0, 1424.0, 830.0, 528.0,...  \n",
       "2      0.046822  [388.0, 399.0, 390.0, 420.0, 427.0, 390.0, 354...  \n",
       "3      0.091746  [257.0, 245.0, 256.0, 273.0, 265.0, 242.0, 258...  \n",
       "4      0.142845  [241.0, 231.0, 237.0, 257.0, 290.0, 313.0, 297...  \n",
       "5      0.106149  [259.0, 302.0, 283.0, 223.0, 215.0, 231.0, 242...  "
      ]
     },
     "execution_count": 12,
     "metadata": {},
     "output_type": "execute_result"
    }
   ],
   "source": [
    "df"
   ]
  },
  {
   "cell_type": "markdown",
   "metadata": {},
   "source": [
    "## Save data frame"
   ]
  },
  {
   "cell_type": "code",
   "execution_count": 18,
   "metadata": {},
   "outputs": [],
   "source": [
    "df.to_pickle(path_df)"
   ]
  },
  {
   "cell_type": "code",
   "execution_count": null,
   "metadata": {},
   "outputs": [],
   "source": []
  }
 ],
 "metadata": {
  "kernelspec": {
   "display_name": "Python 3.9.13 ('napari-env')",
   "language": "python",
   "name": "python3"
  },
  "language_info": {
   "codemirror_mode": {
    "name": "ipython",
    "version": 3
   },
   "file_extension": ".py",
   "mimetype": "text/x-python",
   "name": "python",
   "nbconvert_exporter": "python",
   "pygments_lexer": "ipython3",
   "version": "3.9.13"
  },
  "orig_nbformat": 4,
  "vscode": {
   "interpreter": {
    "hash": "850c40123f56a6a81eac0cf1a4fa0b8eb9afb778da43d1733bc64827a43fb21d"
   }
  }
 },
 "nbformat": 4,
 "nbformat_minor": 2
}
