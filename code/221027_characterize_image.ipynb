{
 "cells": [
  {
   "cell_type": "code",
   "execution_count": 57,
   "metadata": {},
   "outputs": [],
   "source": [
    "import os\n",
    "import nd2\n",
    "import napari\n",
    "import pickle\n",
    "import numpy as np\n",
    "import pandas as pd\n",
    "from skimage.io import imread\n",
    "from skimage.measure import regionprops_table\n",
    "from cardiomyocytes_helper_functions import segment_actin_3D,find_fibers_orientation"
   ]
  },
  {
   "cell_type": "code",
   "execution_count": 49,
   "metadata": {},
   "outputs": [],
   "source": [
    "path_dir = r'D:\\data_analysis\\2022_Sahana\\data\\Collagen\\60x images'\n",
    "im_name = r'092622_ring_PDMSAp_10MCol_647-Act_561-Pax_488-Plak_DAPI_001.nd2'\n",
    "path_im = os.path.join(path_dir,im_name)\n",
    "\n",
    "path_vertices = r'D:\\data_analysis\\2022_Sahana\\masks'"
   ]
  },
  {
   "cell_type": "code",
   "execution_count": 50,
   "metadata": {},
   "outputs": [
    {
     "data": {
      "text/plain": [
       "(27, 4, 512, 512)"
      ]
     },
     "execution_count": 50,
     "metadata": {},
     "output_type": "execute_result"
    }
   ],
   "source": [
    "# read in image\n",
    "im = nd2.imread(path_im)\n",
    "im.shape"
   ]
  },
  {
   "cell_type": "code",
   "execution_count": 51,
   "metadata": {},
   "outputs": [],
   "source": [
    "# read in polygons and masks\n",
    "\n",
    "pkl_path = os.path.join(path_vertices,im_name.replace('.nd2','_polygons.pkl'))\n",
    "with open(pkl_path, 'rb') as f:\n",
    "    vertices_polygons = pickle.load(f)\n",
    "\n",
    "mask_path = os.path.join(path_vertices,im_name.replace('.nd2','_mask.png'))\n",
    "mask = imread(mask_path)"
   ]
  },
  {
   "cell_type": "code",
   "execution_count": 52,
   "metadata": {},
   "outputs": [
    {
     "name": "stdout",
     "output_type": "stream",
     "text": [
      "intensity normalization: min-max normalization with NO absoluteintensity upper bound\n"
     ]
    }
   ],
   "source": [
    "# actin segmentation\n",
    "\n",
    "image_actin = im[:,0,:,:]\n",
    "\n",
    "image_actin_mask = segment_actin_3D(image_actin)"
   ]
  },
  {
   "cell_type": "code",
   "execution_count": 58,
   "metadata": {},
   "outputs": [],
   "source": [
    "# flatten segmented actin\n",
    "\n",
    "image_actin_mask_2D = np.max(image_actin_mask,axis=0)\n",
    "#theta = find_fibers_orientation(image_actin_mask_2D)"
   ]
  },
  {
   "cell_type": "code",
   "execution_count": 53,
   "metadata": {},
   "outputs": [
    {
     "name": "stdout",
     "output_type": "stream",
     "text": [
      "Assistant skips harvesting pyclesperanto as it's not installed.\n"
     ]
    },
    {
     "data": {
      "text/plain": [
       "<Image layer 'image_actin_mask' at 0x25e996f1b80>"
      ]
     },
     "execution_count": 53,
     "metadata": {},
     "output_type": "execute_result"
    }
   ],
   "source": [
    "viewer = napari.Viewer()\n",
    "viewer.add_image(im[:,0,:,:],blending='additive',colormap='magenta')\n",
    "viewer.add_image(image_actin_mask,blending='additive',colormap='green')"
   ]
  },
  {
   "cell_type": "code",
   "execution_count": 56,
   "metadata": {},
   "outputs": [
    {
     "data": {
      "text/plain": [
       "<Image layer 'image_actin_mask_2D' at 0x25ea513a2b0>"
      ]
     },
     "execution_count": 56,
     "metadata": {},
     "output_type": "execute_result"
    }
   ],
   "source": [
    "viewer.add_image(image_actin_mask_2D,blending='additive',colormap='gray')"
   ]
  },
  {
   "cell_type": "code",
   "execution_count": 59,
   "metadata": {},
   "outputs": [],
   "source": [
    "# calculate properties of cells\n",
    "\n",
    "properties = ['label','area','centroid','bbox','eccentricity','orientation','intensity_image','image']\n",
    "\n",
    "im_flat_all_channels = np.max(im,axis=0)\n",
    "im_flat_all = np.append(im_flat_all_channels,np.expand_dims(image_actin_mask_2D,axis=0),axis=0)\n",
    "im_flat_all = np.moveaxis(im_flat_all,0,2)\n",
    "\n",
    "cell_measure = regionprops_table(mask, intensity_image = im_flat_all, properties = properties)\n",
    "df = pd.DataFrame(cell_measure)\n",
    "df['image_name'] = im_name"
   ]
  },
  {
   "cell_type": "code",
   "execution_count": 60,
   "metadata": {},
   "outputs": [
    {
     "data": {
      "text/html": [
       "<div>\n",
       "<style scoped>\n",
       "    .dataframe tbody tr th:only-of-type {\n",
       "        vertical-align: middle;\n",
       "    }\n",
       "\n",
       "    .dataframe tbody tr th {\n",
       "        vertical-align: top;\n",
       "    }\n",
       "\n",
       "    .dataframe thead th {\n",
       "        text-align: right;\n",
       "    }\n",
       "</style>\n",
       "<table border=\"1\" class=\"dataframe\">\n",
       "  <thead>\n",
       "    <tr style=\"text-align: right;\">\n",
       "      <th></th>\n",
       "      <th>label</th>\n",
       "      <th>area</th>\n",
       "      <th>centroid-0</th>\n",
       "      <th>centroid-1</th>\n",
       "      <th>bbox-0</th>\n",
       "      <th>bbox-1</th>\n",
       "      <th>bbox-2</th>\n",
       "      <th>bbox-3</th>\n",
       "      <th>eccentricity</th>\n",
       "      <th>orientation</th>\n",
       "      <th>intensity_image</th>\n",
       "      <th>image</th>\n",
       "      <th>image_name</th>\n",
       "    </tr>\n",
       "  </thead>\n",
       "  <tbody>\n",
       "    <tr>\n",
       "      <th>0</th>\n",
       "      <td>1</td>\n",
       "      <td>28323</td>\n",
       "      <td>415.040815</td>\n",
       "      <td>286.739646</td>\n",
       "      <td>339</td>\n",
       "      <td>134</td>\n",
       "      <td>511</td>\n",
       "      <td>441</td>\n",
       "      <td>0.915018</td>\n",
       "      <td>-1.247227</td>\n",
       "      <td>[[[0, 0, 0, 0, 0], [0, 0, 0, 0, 0], [0, 0, 0, ...</td>\n",
       "      <td>[[False, False, False, False, False, False, Fa...</td>\n",
       "      <td>092622_ring_PDMSAp_10MCol_647-Act_561-Pax_488-...</td>\n",
       "    </tr>\n",
       "    <tr>\n",
       "      <th>1</th>\n",
       "      <td>2</td>\n",
       "      <td>6917</td>\n",
       "      <td>214.152378</td>\n",
       "      <td>129.314009</td>\n",
       "      <td>141</td>\n",
       "      <td>91</td>\n",
       "      <td>285</td>\n",
       "      <td>165</td>\n",
       "      <td>0.888931</td>\n",
       "      <td>0.147835</td>\n",
       "      <td>[[[0, 0, 0, 0, 0], [0, 0, 0, 0, 0], [0, 0, 0, ...</td>\n",
       "      <td>[[False, False, False, False, False, False, Fa...</td>\n",
       "      <td>092622_ring_PDMSAp_10MCol_647-Act_561-Pax_488-...</td>\n",
       "    </tr>\n",
       "    <tr>\n",
       "      <th>2</th>\n",
       "      <td>3</td>\n",
       "      <td>18062</td>\n",
       "      <td>222.595615</td>\n",
       "      <td>230.443306</td>\n",
       "      <td>137</td>\n",
       "      <td>148</td>\n",
       "      <td>288</td>\n",
       "      <td>335</td>\n",
       "      <td>0.743125</td>\n",
       "      <td>1.280364</td>\n",
       "      <td>[[[0, 0, 0, 0, 0], [0, 0, 0, 0, 0], [0, 0, 0, ...</td>\n",
       "      <td>[[False, False, False, False, False, False, Fa...</td>\n",
       "      <td>092622_ring_PDMSAp_10MCol_647-Act_561-Pax_488-...</td>\n",
       "    </tr>\n",
       "  </tbody>\n",
       "</table>\n",
       "</div>"
      ],
      "text/plain": [
       "   label   area  centroid-0  centroid-1  bbox-0  bbox-1  bbox-2  bbox-3  \\\n",
       "0      1  28323  415.040815  286.739646     339     134     511     441   \n",
       "1      2   6917  214.152378  129.314009     141      91     285     165   \n",
       "2      3  18062  222.595615  230.443306     137     148     288     335   \n",
       "\n",
       "   eccentricity  orientation  \\\n",
       "0      0.915018    -1.247227   \n",
       "1      0.888931     0.147835   \n",
       "2      0.743125     1.280364   \n",
       "\n",
       "                                     intensity_image  \\\n",
       "0  [[[0, 0, 0, 0, 0], [0, 0, 0, 0, 0], [0, 0, 0, ...   \n",
       "1  [[[0, 0, 0, 0, 0], [0, 0, 0, 0, 0], [0, 0, 0, ...   \n",
       "2  [[[0, 0, 0, 0, 0], [0, 0, 0, 0, 0], [0, 0, 0, ...   \n",
       "\n",
       "                                               image  \\\n",
       "0  [[False, False, False, False, False, False, Fa...   \n",
       "1  [[False, False, False, False, False, False, Fa...   \n",
       "2  [[False, False, False, False, False, False, Fa...   \n",
       "\n",
       "                                          image_name  \n",
       "0  092622_ring_PDMSAp_10MCol_647-Act_561-Pax_488-...  \n",
       "1  092622_ring_PDMSAp_10MCol_647-Act_561-Pax_488-...  \n",
       "2  092622_ring_PDMSAp_10MCol_647-Act_561-Pax_488-...  "
      ]
     },
     "execution_count": 60,
     "metadata": {},
     "output_type": "execute_result"
    }
   ],
   "source": [
    "df"
   ]
  },
  {
   "cell_type": "code",
   "execution_count": 66,
   "metadata": {},
   "outputs": [
    {
     "data": {
      "text/plain": [
       "<Image layer 'Image' at 0x25eb52d59d0>"
      ]
     },
     "execution_count": 66,
     "metadata": {},
     "output_type": "execute_result"
    }
   ],
   "source": [
    "\n",
    "viewer= napari.Viewer()\n",
    "viewer.add_image(np.moveaxis(df.loc[0,'intensity_image'],2,0))"
   ]
  },
  {
   "cell_type": "code",
   "execution_count": 65,
   "metadata": {},
   "outputs": [
    {
     "data": {
      "text/plain": [
       "(172, 307, 5)"
      ]
     },
     "execution_count": 65,
     "metadata": {},
     "output_type": "execute_result"
    }
   ],
   "source": [
    "df.loc[0,'intensity_image'].shape"
   ]
  },
  {
   "cell_type": "code",
   "execution_count": 46,
   "metadata": {},
   "outputs": [],
   "source": [
    "# characterize all cells\n",
    "\n",
    "for i,cell in df.iterrows():\n",
    "\n",
    "    im_single_cell_actin = cell.intensity_image[:,:,0]\n",
    "\n",
    "    actin_orientation = find_fibers_orientation(im_single_cell_actin)\n",
    "\n",
    "    df.loc[i,'actin_orientation'] = actin_orientation\n",
    "\n"
   ]
  },
  {
   "cell_type": "code",
   "execution_count": 47,
   "metadata": {},
   "outputs": [
    {
     "data": {
      "text/html": [
       "<div>\n",
       "<style scoped>\n",
       "    .dataframe tbody tr th:only-of-type {\n",
       "        vertical-align: middle;\n",
       "    }\n",
       "\n",
       "    .dataframe tbody tr th {\n",
       "        vertical-align: top;\n",
       "    }\n",
       "\n",
       "    .dataframe thead th {\n",
       "        text-align: right;\n",
       "    }\n",
       "</style>\n",
       "<table border=\"1\" class=\"dataframe\">\n",
       "  <thead>\n",
       "    <tr style=\"text-align: right;\">\n",
       "      <th></th>\n",
       "      <th>label</th>\n",
       "      <th>area</th>\n",
       "      <th>centroid-0</th>\n",
       "      <th>centroid-1</th>\n",
       "      <th>bbox-0</th>\n",
       "      <th>bbox-1</th>\n",
       "      <th>bbox-2</th>\n",
       "      <th>bbox-3</th>\n",
       "      <th>eccentricity</th>\n",
       "      <th>orientation</th>\n",
       "      <th>intensity_image</th>\n",
       "      <th>image</th>\n",
       "      <th>image_name</th>\n",
       "      <th>actin_orientation</th>\n",
       "    </tr>\n",
       "  </thead>\n",
       "  <tbody>\n",
       "    <tr>\n",
       "      <th>0</th>\n",
       "      <td>1</td>\n",
       "      <td>24151</td>\n",
       "      <td>413.470664</td>\n",
       "      <td>302.489089</td>\n",
       "      <td>342</td>\n",
       "      <td>179</td>\n",
       "      <td>512</td>\n",
       "      <td>447</td>\n",
       "      <td>0.895311</td>\n",
       "      <td>-1.132747</td>\n",
       "      <td>[[[0, 0, 0, 0, 0], [0, 0, 0, 0, 0], [0, 0, 0, ...</td>\n",
       "      <td>[[False, False, False, False, False, False, Fa...</td>\n",
       "      <td>092622_ring_PDMSAp_10MCol_647-Act_561-Pax_488-...</td>\n",
       "      <td>1.055924</td>\n",
       "    </tr>\n",
       "    <tr>\n",
       "      <th>1</th>\n",
       "      <td>2</td>\n",
       "      <td>7701</td>\n",
       "      <td>216.205558</td>\n",
       "      <td>127.639787</td>\n",
       "      <td>138</td>\n",
       "      <td>91</td>\n",
       "      <td>283</td>\n",
       "      <td>171</td>\n",
       "      <td>0.893858</td>\n",
       "      <td>0.188903</td>\n",
       "      <td>[[[0, 0, 0, 0, 0], [0, 0, 0, 0, 0], [0, 0, 0, ...</td>\n",
       "      <td>[[False, False, False, False, False, False, Fa...</td>\n",
       "      <td>092622_ring_PDMSAp_10MCol_647-Act_561-Pax_488-...</td>\n",
       "      <td>-0.176715</td>\n",
       "    </tr>\n",
       "    <tr>\n",
       "      <th>2</th>\n",
       "      <td>3</td>\n",
       "      <td>19808</td>\n",
       "      <td>212.236319</td>\n",
       "      <td>226.516811</td>\n",
       "      <td>128</td>\n",
       "      <td>149</td>\n",
       "      <td>292</td>\n",
       "      <td>331</td>\n",
       "      <td>0.567734</td>\n",
       "      <td>1.099506</td>\n",
       "      <td>[[[0, 0, 0, 0, 0], [0, 0, 0, 0, 0], [0, 0, 0, ...</td>\n",
       "      <td>[[False, False, False, False, False, False, Fa...</td>\n",
       "      <td>092622_ring_PDMSAp_10MCol_647-Act_561-Pax_488-...</td>\n",
       "      <td>-0.844303</td>\n",
       "    </tr>\n",
       "    <tr>\n",
       "      <th>3</th>\n",
       "      <td>4</td>\n",
       "      <td>19182</td>\n",
       "      <td>330.324992</td>\n",
       "      <td>236.807267</td>\n",
       "      <td>235</td>\n",
       "      <td>123</td>\n",
       "      <td>402</td>\n",
       "      <td>359</td>\n",
       "      <td>0.910533</td>\n",
       "      <td>-1.163371</td>\n",
       "      <td>[[[0, 0, 0, 0, 0], [0, 0, 0, 0, 0], [0, 0, 0, ...</td>\n",
       "      <td>[[False, False, False, False, False, False, Fa...</td>\n",
       "      <td>092622_ring_PDMSAp_10MCol_647-Act_561-Pax_488-...</td>\n",
       "      <td>0.798488</td>\n",
       "    </tr>\n",
       "  </tbody>\n",
       "</table>\n",
       "</div>"
      ],
      "text/plain": [
       "   label   area  centroid-0  centroid-1  bbox-0  bbox-1  bbox-2  bbox-3  \\\n",
       "0      1  24151  413.470664  302.489089     342     179     512     447   \n",
       "1      2   7701  216.205558  127.639787     138      91     283     171   \n",
       "2      3  19808  212.236319  226.516811     128     149     292     331   \n",
       "3      4  19182  330.324992  236.807267     235     123     402     359   \n",
       "\n",
       "   eccentricity  orientation  \\\n",
       "0      0.895311    -1.132747   \n",
       "1      0.893858     0.188903   \n",
       "2      0.567734     1.099506   \n",
       "3      0.910533    -1.163371   \n",
       "\n",
       "                                     intensity_image  \\\n",
       "0  [[[0, 0, 0, 0, 0], [0, 0, 0, 0, 0], [0, 0, 0, ...   \n",
       "1  [[[0, 0, 0, 0, 0], [0, 0, 0, 0, 0], [0, 0, 0, ...   \n",
       "2  [[[0, 0, 0, 0, 0], [0, 0, 0, 0, 0], [0, 0, 0, ...   \n",
       "3  [[[0, 0, 0, 0, 0], [0, 0, 0, 0, 0], [0, 0, 0, ...   \n",
       "\n",
       "                                               image  \\\n",
       "0  [[False, False, False, False, False, False, Fa...   \n",
       "1  [[False, False, False, False, False, False, Fa...   \n",
       "2  [[False, False, False, False, False, False, Fa...   \n",
       "3  [[False, False, False, False, False, False, Fa...   \n",
       "\n",
       "                                          image_name  actin_orientation  \n",
       "0  092622_ring_PDMSAp_10MCol_647-Act_561-Pax_488-...           1.055924  \n",
       "1  092622_ring_PDMSAp_10MCol_647-Act_561-Pax_488-...          -0.176715  \n",
       "2  092622_ring_PDMSAp_10MCol_647-Act_561-Pax_488-...          -0.844303  \n",
       "3  092622_ring_PDMSAp_10MCol_647-Act_561-Pax_488-...           0.798488  "
      ]
     },
     "execution_count": 47,
     "metadata": {},
     "output_type": "execute_result"
    }
   ],
   "source": [
    "df"
   ]
  },
  {
   "cell_type": "code",
   "execution_count": null,
   "metadata": {},
   "outputs": [],
   "source": [
    "# calculate distribution at the edge\n",
    "\n",
    "for i,poly in enumerate(vertices_polygons):\n",
    "\n",
    "    pl_list = []\n",
    "\n",
    "    green_max = np.max(im[:,2,:,:],axis=0)\n",
    "\n",
    "    for i in range(len(vertices_polygons[0])-1):\n",
    "        \n",
    "        pl = profile_line(green_max,vertices_polygons[0][i,1:],vertices_polygons[0][i+1,1:])\n",
    "        \n",
    "        pl_list.extend(pl)"
   ]
  }
 ],
 "metadata": {
  "kernelspec": {
   "display_name": "Python 3.9.13 ('napari-env')",
   "language": "python",
   "name": "python3"
  },
  "language_info": {
   "codemirror_mode": {
    "name": "ipython",
    "version": 3
   },
   "file_extension": ".py",
   "mimetype": "text/x-python",
   "name": "python",
   "nbconvert_exporter": "python",
   "pygments_lexer": "ipython3",
   "version": "3.9.13"
  },
  "orig_nbformat": 4,
  "vscode": {
   "interpreter": {
    "hash": "850c40123f56a6a81eac0cf1a4fa0b8eb9afb778da43d1733bc64827a43fb21d"
   }
  }
 },
 "nbformat": 4,
 "nbformat_minor": 2
}
